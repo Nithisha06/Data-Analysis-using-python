{
  "nbformat": 4,
  "nbformat_minor": 0,
  "metadata": {
    "colab": {
      "provenance": []
    },
    "kernelspec": {
      "name": "python3",
      "display_name": "Python 3"
    },
    "language_info": {
      "name": "python"
    }
  },
  "cells": [
    {
      "cell_type": "code",
      "execution_count": 1,
      "metadata": {
        "colab": {
          "base_uri": "https://localhost:8080/"
        },
        "id": "6ppXx0NtVJOH",
        "outputId": "37e5ba9b-8e93-418c-99b1-27bbd24efec1"
      },
      "outputs": [
        {
          "output_type": "stream",
          "name": "stdout",
          "text": [
            "Dataset extracted to: /content/Supermarket_Sales\n"
          ]
        }
      ],
      "source": [
        "import zipfile\n",
        "import os\n",
        "zip_file_path = \"/content/Supermarket_Sales.zip\"\n",
        "extract_to_folder = \"/content/Supermarket_Sales\"\n",
        "\n",
        "with zipfile.ZipFile(zip_file_path, 'r') as zip_ref:\n",
        "    zip_ref.extractall(extract_to_folder)\n",
        "\n",
        "print(f\"Dataset extracted to: {os.path.abspath(extract_to_folder)}\")\n"
      ]
    },
    {
      "cell_type": "code",
      "source": [
        "import pandas as pd\n",
        "\n",
        "\n",
        "df = pd.read_csv(\"/content/Supermarket_Sales/supermarket_sales -.csv\")\n"
      ],
      "metadata": {
        "id": "YoxzS3cJXBa6"
      },
      "execution_count": 2,
      "outputs": []
    },
    {
      "cell_type": "code",
      "source": [
        "\n",
        "print(df.head())\n"
      ],
      "metadata": {
        "colab": {
          "base_uri": "https://localhost:8080/"
        },
        "id": "8PhLXdi7XDLX",
        "outputId": "b5946d8a-63b7-4ace-ae89-684d5b1e0381"
      },
      "execution_count": 3,
      "outputs": [
        {
          "output_type": "stream",
          "name": "stdout",
          "text": [
            "    Invoice ID Branch       City Customer type  Gender  \\\n",
            "0  750-67-8428      A     Yangon        Member  Female   \n",
            "1  226-31-3081      C  Naypyitaw        Normal  Female   \n",
            "2  631-41-3108      A     Yangon        Normal    Male   \n",
            "3  123-19-1176      A     Yangon        Member    Male   \n",
            "4  373-73-7910      A     Yangon        Normal    Male   \n",
            "\n",
            "             Product line  Unit price  Quantity   Tax 5%     Total       Date  \\\n",
            "0       Health and beauty       74.69         7  26.1415  548.9715   1/5/2019   \n",
            "1  Electronic accessories       15.28         5   3.8200   80.2200   3/8/2019   \n",
            "2      Home and lifestyle       46.33         7  16.2155  340.5255   3/3/2019   \n",
            "3       Health and beauty       58.22         8  23.2880  489.0480  1/27/2019   \n",
            "4       Sports and travel       86.31         7  30.2085  634.3785   2/8/2019   \n",
            "\n",
            "    Time      Payment    cogs  gross margin percentage  gross income  Rating  \n",
            "0  13:08      Ewallet  522.83                 4.761905       26.1415     9.1  \n",
            "1  10:29         Cash   76.40                 4.761905        3.8200     9.6  \n",
            "2  13:23  Credit card  324.31                 4.761905       16.2155     7.4  \n",
            "3  20:33      Ewallet  465.76                 4.761905       23.2880     8.4  \n",
            "4  10:37      Ewallet  604.17                 4.761905       30.2085     5.3  \n"
          ]
        }
      ]
    },
    {
      "cell_type": "code",
      "source": [
        "\n",
        "total_transactions = len(df)\n"
      ],
      "metadata": {
        "id": "op4gYK4YXEzF"
      },
      "execution_count": 4,
      "outputs": []
    },
    {
      "cell_type": "code",
      "source": [
        "A = df[df[\"Customer type\"] == \"Member\"]\n"
      ],
      "metadata": {
        "id": "C_pBA7VJXGOR"
      },
      "execution_count": 5,
      "outputs": []
    },
    {
      "cell_type": "code",
      "source": [
        "\n",
        "# Event B: A transaction was made using Credit Card payment.\n",
        "B = df[df[\"Payment\"] == \"Credit card\"]\n"
      ],
      "metadata": {
        "id": "9u7VLarXXH6k"
      },
      "execution_count": 6,
      "outputs": []
    },
    {
      "cell_type": "code",
      "source": [
        "\n",
        "# Compute probabilities\n",
        "P_A = len(A) / total_transactions\n",
        "P_B = len(B) / total_transactions\n",
        "P_A_intersection_B = len(df[(df[\"Customer type\"] == \"Member\") & (df[\"Payment\"] == \"Credit card\")]) / total_transactions\n",
        "P_A_union_B = P_A + P_B - P_A_intersection_B\n",
        "P_A_given_B = P_A_intersection_B / P_B\n"
      ],
      "metadata": {
        "id": "wcm4rUJkXJfH"
      },
      "execution_count": 7,
      "outputs": []
    },
    {
      "cell_type": "code",
      "source": [
        "\n",
        "# Print results\n",
        "print(f\"P(A): {P_A:.4f}\")\n",
        "print(f\"P(B): {P_B:.4f}\")\n",
        "print(f\"P(A ∪ B): {P_A_union_B:.4f}\")\n",
        "print(f\"P(A ∩ B): {P_A_intersection_B:.4f}\")\n",
        "print(f\"P(A | B): {P_A_given_B:.4f}\")"
      ],
      "metadata": {
        "colab": {
          "base_uri": "https://localhost:8080/"
        },
        "id": "D0KMNck2XMFF",
        "outputId": "6ea65ed7-42ba-406f-e7b5-c084ef83fa44"
      },
      "execution_count": 8,
      "outputs": [
        {
          "output_type": "stream",
          "name": "stdout",
          "text": [
            "P(A): 0.5010\n",
            "P(B): 0.3110\n",
            "P(A ∪ B): 0.6400\n",
            "P(A ∩ B): 0.1720\n",
            "P(A | B): 0.5531\n"
          ]
        }
      ]
    },
    {
      "cell_type": "code",
      "source": [
        "\n",
        "\n",
        "# Probability of a randomly chosen transaction belonging to the Health & Beauty product line\n",
        "P_health_beauty = len(df[df[\"Product line\"] == \"Health and beauty\"]) / total_transactions\n",
        "print(f\"P(Health & Beauty): {P_health_beauty:.4f}\")\n"
      ],
      "metadata": {
        "colab": {
          "base_uri": "https://localhost:8080/"
        },
        "id": "YHPpCKoPXN44",
        "outputId": "b9dfddd8-9e1e-4c99-b1af-525502641f8a"
      },
      "execution_count": 9,
      "outputs": [
        {
          "output_type": "stream",
          "name": "stdout",
          "text": [
            "P(Health & Beauty): 0.1520\n"
          ]
        }
      ]
    },
    {
      "cell_type": "code",
      "source": [
        "\n",
        "# Probability that given a customer used Ewallet, they purchased more than 5 items\n",
        "Ewallet_transactions = df[df[\"Payment\"] == \"Ewallet\"]\n",
        "P_more_than_5_given_Ewallet = len(Ewallet_transactions[Ewallet_transactions[\"Quantity\"] > 5]) / len(Ewallet_transactions)\n",
        "print(f\"P(Quantity > 5 | Ewallet): {P_more_than_5_given_Ewallet:.4f}\")\n"
      ],
      "metadata": {
        "colab": {
          "base_uri": "https://localhost:8080/"
        },
        "id": "9xzSRJQFXPfc",
        "outputId": "320d9a46-3a97-467e-903a-4709e4a005cd"
      },
      "execution_count": 10,
      "outputs": [
        {
          "output_type": "stream",
          "name": "stdout",
          "text": [
            "P(Quantity > 5 | Ewallet): 0.4870\n"
          ]
        }
      ]
    },
    {
      "cell_type": "code",
      "source": [
        "\n",
        "# Probability that a randomly selected transaction from Yangon used Cash as payment method\n",
        "Yangon_transactions = df[df[\"City\"] == \"Yangon\"]\n",
        "P_cash_given_Yangon = len(Yangon_transactions[Yangon_transactions[\"Payment\"] == \"Cash\"]) / len(Yangon_transactions)\n",
        "print(f\"P(Cash | Yangon): {P_cash_given_Yangon:.4f}\")\n"
      ],
      "metadata": {
        "colab": {
          "base_uri": "https://localhost:8080/"
        },
        "id": "hJEWx1UvXRYJ",
        "outputId": "3d7a8ff6-dd73-4702-cd6a-ebc504bedde7"
      },
      "execution_count": 11,
      "outputs": [
        {
          "output_type": "stream",
          "name": "stdout",
          "text": [
            "P(Cash | Yangon): 0.3235\n"
          ]
        }
      ]
    },
    {
      "cell_type": "code",
      "source": [
        "\n",
        "# Probability of selecting a customer who is a Member and has given a rating above 8\n",
        "P_member_high_rating = len(df[(df[\"Customer type\"] == \"Member\") & (df[\"Rating\"] > 8)]) / total_transactions\n",
        "print(f\"P(Member and Rating > 8): {P_member_high_rating:.4f}\")\n"
      ],
      "metadata": {
        "colab": {
          "base_uri": "https://localhost:8080/"
        },
        "id": "vBSp1GRxVXps",
        "outputId": "f7cab38f-d5b6-499a-993d-cd3acc856878"
      },
      "execution_count": 12,
      "outputs": [
        {
          "output_type": "stream",
          "name": "stdout",
          "text": [
            "P(Member and Rating > 8): 0.1570\n"
          ]
        }
      ]
    },
    {
      "cell_type": "code",
      "source": [
        "import math\n",
        "import pandas as pd\n",
        "\n",
        "# Load the dataset\n",
        "df = pd.read_csv(\"/content/Supermarket_Sales/supermarket_sales -.csv\")\n"
      ],
      "metadata": {
        "id": "sUwZiNeLXT6I"
      },
      "execution_count": 14,
      "outputs": []
    },
    {
      "cell_type": "code",
      "source": [
        "\n",
        "# Factorial function\n",
        "def factorial(n):\n",
        "    return math.factorial(n)"
      ],
      "metadata": {
        "id": "6FaIPsXhXWj4"
      },
      "execution_count": 15,
      "outputs": []
    },
    {
      "cell_type": "code",
      "source": [
        "# Permutations function: P(n, r) = n! / (n-r)!\n",
        "def permutation(n, r):\n",
        "    return math.factorial(n) // math.factorial(n - r)\n"
      ],
      "metadata": {
        "id": "xqM023qYXZrO"
      },
      "execution_count": 16,
      "outputs": []
    },
    {
      "cell_type": "code",
      "source": [
        "# Combinations function: C(n, r) = n! / (r!(n-r)!)\n",
        "def combination(n, r):\n",
        "    return math.factorial(n) // (math.factorial(r) * math.factorial(n - r))\n"
      ],
      "metadata": {
        "id": "H0MJcX2QXcpD"
      },
      "execution_count": 17,
      "outputs": []
    },
    {
      "cell_type": "code",
      "source": [
        "# 1Permutation: Ways to arrange 5 transactions from 20 transactions in a day\n",
        "P_5_from_20 = permutation(20, 5)\n",
        "print(f\"Permutations (P(20,5)): {P_5_from_20}\")\n"
      ],
      "metadata": {
        "colab": {
          "base_uri": "https://localhost:8080/"
        },
        "id": "NaGrfva5Xe0G",
        "outputId": "58482b1a-de9a-4420-c8d5-74c17fb6dace"
      },
      "execution_count": 18,
      "outputs": [
        {
          "output_type": "stream",
          "name": "stdout",
          "text": [
            "Permutations (P(20,5)): 1860480\n"
          ]
        }
      ]
    },
    {
      "cell_type": "code",
      "source": [
        "# 2Combination: Ways to select 3 different product lines from 6 available categories\n",
        "unique_product_lines = df[\"Product line\"].nunique()  # Get total product line categories\n",
        "C_3_from_6 = combination(unique_product_lines, 3)\n",
        "print(f\"Combinations (C(6,3)): {C_3_from_6}\")\n"
      ],
      "metadata": {
        "colab": {
          "base_uri": "https://localhost:8080/"
        },
        "id": "mgoJAp0mXhYj",
        "outputId": "58ff6a38-7e51-44ba-c386-3bf12543e859"
      },
      "execution_count": 19,
      "outputs": [
        {
          "output_type": "stream",
          "name": "stdout",
          "text": [
            "Combinations (C(6,3)): 20\n"
          ]
        }
      ]
    },
    {
      "cell_type": "code",
      "source": [
        "# 3 Factorial: Compute factorial of total number of different branches in dataset\n",
        "unique_branches = df[\"Branch\"].nunique()\n",
        "factorial_branches = factorial(unique_branches)\n",
        "print(f\"Factorial of branches ({unique_branches}!): {factorial_branches}\")\n"
      ],
      "metadata": {
        "colab": {
          "base_uri": "https://localhost:8080/"
        },
        "id": "R70_Vh5zXjvD",
        "outputId": "da66d608-d9a5-4163-9fc9-e0a550967645"
      },
      "execution_count": 20,
      "outputs": [
        {
          "output_type": "stream",
          "name": "stdout",
          "text": [
            "Factorial of branches (3!): 6\n"
          ]
        }
      ]
    },
    {
      "cell_type": "code",
      "source": [
        "# 4 Ways to select 4 different payment methods from the available 3 types (Impossible case)\n",
        "payment_methods = df[\"Payment\"].nunique()\n",
        "if payment_methods < 4:\n",
        "    print(\"Cannot select 4 payment methods from only 3 available types.\")\n",
        "else:\n",
        "    P_4_from_3 = permutation(payment_methods, 4)\n",
        "    print(f\"Permutations (P(3,4)): {P_4_from_3}\")\n"
      ],
      "metadata": {
        "colab": {
          "base_uri": "https://localhost:8080/"
        },
        "id": "FuUjipYvXmFr",
        "outputId": "b0b23f82-9803-48b2-d5ef-d85119f6ca0d"
      },
      "execution_count": 21,
      "outputs": [
        {
          "output_type": "stream",
          "name": "stdout",
          "text": [
            "Cannot select 4 payment methods from only 3 available types.\n"
          ]
        }
      ]
    },
    {
      "cell_type": "code",
      "source": [
        "\n",
        "# 5 Ways to select 5 employees for a survey from 15 employees\n",
        "C_5_from_15 = combination(15, 5)\n",
        "print(f\"Combinations (C(15,5)): {C_5_from_15}\")\n"
      ],
      "metadata": {
        "colab": {
          "base_uri": "https://localhost:8080/"
        },
        "id": "XStfiz6YXrEd",
        "outputId": "0d479b17-d61c-4dd0-efa1-a41787a7f1a5"
      },
      "execution_count": 22,
      "outputs": [
        {
          "output_type": "stream",
          "name": "stdout",
          "text": [
            "Combinations (C(15,5)): 3003\n"
          ]
        }
      ]
    },
    {
      "cell_type": "code",
      "source": [
        "# 6 Ways to create unique invoice codes using 6 letters from 26 English alphabet letters\n",
        "P_6_from_26 = permutation(26, 6)\n",
        "print(f\"Permutations (P(26,6)): {P_6_from_26}\")\n"
      ],
      "metadata": {
        "colab": {
          "base_uri": "https://localhost:8080/"
        },
        "id": "S496rjViVxJL",
        "outputId": "45dbf50b-761a-41a5-c29d-e7a48c7c7c2f"
      },
      "execution_count": 23,
      "outputs": [
        {
          "output_type": "stream",
          "name": "stdout",
          "text": [
            "Permutations (P(26,6)): 165765600\n"
          ]
        }
      ]
    },
    {
      "cell_type": "code",
      "source": [],
      "metadata": {
        "id": "-zjG8DnLWOp9"
      },
      "execution_count": null,
      "outputs": []
    }
  ]
}